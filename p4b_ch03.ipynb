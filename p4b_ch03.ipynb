{
 "cells": [
  {
   "cell_type": "code",
   "execution_count": 2,
   "metadata": {
    "collapsed": false
   },
   "outputs": [
    {
     "name": "stdout",
     "output_type": "stream",
     "text": [
      "ATGGATAACCAATCCTTTTTCAAATATAGTTGGGATACTCTCCCCAAGAAATGGGTAAAAAAAAGAGAAAGATCGGAACATGGGAATAGATCGGATACCAATACAGACTACCTATTTCAATTGTTGTGCTTTCTCAAATTGCATACCTATACAAGGGTTCAAGTTTCGATCGATATTTGCGGAGTTGATTATCCCTCTCGAAAACGAAGATTTGAAGTGGTCTATAATTTACTGAGTACTCGGTATAACTCACGCATTCGTGTACAAACCAGTGCAGACGAAGTAACACGAATATCTCCGGTAGTCAGTCTATTTCCATCAGCCGGCCGGTGGGAGCGAGAAGTTTGGGATATGTTTGGTGTTTCTTCCATCAATCATCCGGATCTACGCCGTATATCAACAGATTATGGTTTCGAGGGTCATCCATTACGAAAAGACCTTCCTCTGAGTGGATATGTGGAAGTACGCTATGATGATCCAGAGAAACGTGTGGTTTCTGAACCCATTGAGATGACCCAAGAATTTCGCTATTTCGATTTTGCTAGTCCTTGGGAACAGCGTAGCGACAGATAA\n",
      "\n"
     ]
    }
   ],
   "source": [
    "my_file = open(\"dna.txt\")\n",
    "file_contents = my_file.read()\n",
    "print(file_contents)"
   ]
  },
  {
   "cell_type": "code",
   "execution_count": 5,
   "metadata": {
    "collapsed": false
   },
   "outputs": [
    {
     "name": "stdout",
     "output_type": "stream",
     "text": [
      "sequence is ATGGATAACCAATCCTTTTTCAAATATAGTTGGGATACTCTCCCCAAGAAATGGGTAAAAAAAAGAGAAAGATCGGAACATGGGAATAGATCGGATACCAATACAGACTACCTATTTCAATTGTTGTGCTTTCTCAAATTGCATACCTATACAAGGGTTCAAGTTTCGATCGATATTTGCGGAGTTGATTATCCCTCTCGAAAACGAAGATTTGAAGTGGTCTATAATTTACTGAGTACTCGGTATAACTCACGCATTCGTGTACAAACCAGTGCAGACGAAGTAACACGAATATCTCCGGTAGTCAGTCTATTTCCATCAGCCGGCCGGTGGGAGCGAGAAGTTTGGGATATGTTTGGTGTTTCTTCCATCAATCATCCGGATCTACGCCGTATATCAACAGATTATGGTTTCGAGGGTCATCCATTACGAAAAGACCTTCCTCTGAGTGGATATGTGGAAGTACGCTATGATGATCCAGAGAAACGTGTGGTTTCTGAACCCATTGAGATGACCCAAGAATTTCGCTATTTCGATTTTGCTAGTCCTTGGGAACAGCGTAGCGACAGATAA and length is 573\n"
     ]
    }
   ],
   "source": [
    "my_file = open(\"dna.txt\")\n",
    "file_contents = my_file.read().rstrip(\"\\n\")\n",
    "dna_length = len(file_contents)\n",
    "print(\"sequence is \" + file_contents + \" and length is \" + str(dna_length))"
   ]
  },
  {
   "cell_type": "code",
   "execution_count": 7,
   "metadata": {
    "collapsed": false
   },
   "outputs": [
    {
     "ename": "UnsupportedOperation",
     "evalue": "not readable",
     "output_type": "error",
     "traceback": [
      "\u001b[0;31m---------------------------------------------------------------------------\u001b[0m",
      "\u001b[0;31mUnsupportedOperation\u001b[0m                      Traceback (most recent call last)",
      "\u001b[0;32m<ipython-input-7-7b03efab423a>\u001b[0m in \u001b[0;36m<module>\u001b[0;34m()\u001b[0m\n\u001b[1;32m      1\u001b[0m \u001b[0mmy_file\u001b[0m \u001b[0;34m=\u001b[0m \u001b[0mopen\u001b[0m\u001b[0;34m(\u001b[0m\u001b[0;34m\"out.txt\"\u001b[0m\u001b[0;34m,\u001b[0m \u001b[0;34m\"w\"\u001b[0m\u001b[0;34m)\u001b[0m\u001b[0;34m\u001b[0m\u001b[0m\n\u001b[1;32m      2\u001b[0m \u001b[0mmy_file\u001b[0m\u001b[0;34m.\u001b[0m\u001b[0mwrite\u001b[0m\u001b[0;34m(\u001b[0m\u001b[0;34m\"Hello World\"\u001b[0m\u001b[0;34m)\u001b[0m\u001b[0;34m\u001b[0m\u001b[0m\n\u001b[0;32m----> 3\u001b[0;31m \u001b[0mprint\u001b[0m\u001b[0;34m(\u001b[0m\u001b[0mmy_file\u001b[0m\u001b[0;34m.\u001b[0m\u001b[0mread\u001b[0m\u001b[0;34m(\u001b[0m\u001b[0;34m)\u001b[0m\u001b[0;34m)\u001b[0m\u001b[0;34m\u001b[0m\u001b[0m\n\u001b[0m",
      "\u001b[0;31mUnsupportedOperation\u001b[0m: not readable"
     ]
    }
   ],
   "source": [
    "my_file = open(\"out.txt\", \"w\")\n",
    "my_file.write(\"Hello World\")\n",
    "print(my_file.read())"
   ]
  },
  {
   "cell_type": "code",
   "execution_count": 12,
   "metadata": {
    "collapsed": false
   },
   "outputs": [
    {
     "name": "stdout",
     "output_type": "stream",
     "text": [
      "Hello World\n"
     ]
    }
   ],
   "source": [
    "my_file = open(\"out.txt\", \"w\")\n",
    "my_file.write(\"Hello World\")\n",
    "my_file = open(\"out.txt\")\n",
    "file_contents = my_file.read()\n",
    "print(file_contents)\n",
    "my_file.close()"
   ]
  },
  {
   "cell_type": "code",
   "execution_count": 21,
   "metadata": {
    "collapsed": false
   },
   "outputs": [],
   "source": [
    "dna_strand = \"ATCGATCGATCGATCGACTGACTAGTCATAGCTATGCATGTAGCTACTCGATCGATCGATCGATCGATCGATCGATCGATCGATCATGCTATCATCGATCGATATCGATGCATCGACTACTAT\"\n",
    "coding = dna_strand[64:90]\n",
    "coding_file = open(\"coding_strand.txt\", \"w\")\n",
    "coding_file.write(coding)\n",
    "coding_file.close()\n",
    "noncoding = dna_strand.replace(coding, \"\")\n",
    "noncoding_file = open(\"noncoding_strand.txt\", \"w\")\n",
    "noncoding_file.write(noncoding)\n",
    "noncoding_file.close()"
   ]
  },
  {
   "cell_type": "code",
   "execution_count": 37,
   "metadata": {
    "collapsed": false
   },
   "outputs": [],
   "source": [
    "sequences = open(\"ABC123.fasta\", \"a\")\n",
    "sequences.write(\">ABC123\\n\")\n",
    "sequence_ABC123 = \"ATCGTACGATCGATCGATCGCTAGACGTATCG\"\n",
    "sequences.write(sequence_ABC123 + \"\\n\")\n",
    "sequences.close()\n",
    "sequences = open(\"DEF456.fasta\", \"a\")\n",
    "sequences.write(\">DEF456\\n\")\n",
    "sequence_DEF456 = \"actgatcgacgatcgatcgatcacgact\"\n",
    "sequences.write(sequence_DEF456.upper() + \"\\n\")\n",
    "sequences.close()\n",
    "sequences = open(\"HIJ789.fasta\", \"a\")\n",
    "sequences.write(\">HIJ789\\n\")\n",
    "sequence_HIJ789 = \"ACTGAC-ACTGT--ACTGTA----CATGTG\"\n",
    "sequences.write(sequence_HIJ789.replace(\"-\", \"\") + \"\\n\")\n",
    "sequences.close()\n"
   ]
  },
  {
   "cell_type": "code",
   "execution_count": null,
   "metadata": {
    "collapsed": true
   },
   "outputs": [],
   "source": []
  }
 ],
 "metadata": {
  "kernelspec": {
   "display_name": "Python 3",
   "language": "python",
   "name": "python3"
  },
  "language_info": {
   "codemirror_mode": {
    "name": "ipython",
    "version": 3
   },
   "file_extension": ".py",
   "mimetype": "text/x-python",
   "name": "python",
   "nbconvert_exporter": "python",
   "pygments_lexer": "ipython3",
   "version": "3.6.0"
  }
 },
 "nbformat": 4,
 "nbformat_minor": 2
}
