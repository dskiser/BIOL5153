{
 "cells": [
  {
   "cell_type": "code",
   "execution_count": 1,
   "metadata": {
    "collapsed": true
   },
   "outputs": [],
   "source": [
    "import re"
   ]
  },
  {
   "cell_type": "code",
   "execution_count": 2,
   "metadata": {
    "collapsed": false
   },
   "outputs": [
    {
     "name": "stdout",
     "output_type": "stream",
     "text": [
      "\\t\\n\n"
     ]
    }
   ],
   "source": [
    "print(r\"\\t\\n\")"
   ]
  },
  {
   "cell_type": "code",
   "execution_count": 3,
   "metadata": {
    "collapsed": false
   },
   "outputs": [
    {
     "name": "stdout",
     "output_type": "stream",
     "text": [
      "\t\n",
      "\n"
     ]
    }
   ],
   "source": [
    "print(\"\\t\\n\")"
   ]
  },
  {
   "cell_type": "code",
   "execution_count": 4,
   "metadata": {
    "collapsed": false
   },
   "outputs": [
    {
     "name": "stdout",
     "output_type": "stream",
     "text": [
      "restriction site found!\n"
     ]
    }
   ],
   "source": [
    "dna = \"ATCGCGAATTCAC\"\n",
    "if re.search(r\"GAATTC\",dna):\n",
    "    print(\"restriction site found!\")"
   ]
  },
  {
   "cell_type": "code",
   "execution_count": 5,
   "metadata": {
    "collapsed": true
   },
   "outputs": [],
   "source": [
    "dna = \"ATCGCGAATTCAC\"\n",
    "if re.search(r\"GG(A|T)CC\",dna):\n",
    "    print(\"restriction site found!\")"
   ]
  },
  {
   "cell_type": "code",
   "execution_count": 7,
   "metadata": {
    "collapsed": true
   },
   "outputs": [],
   "source": [
    "dna = \"ATCGCGAATTCAC\"\n",
    "if re.search(r\"GC(A|T|G|C)GC\",dna):\n",
    "    print(\"restriction site found!\")"
   ]
  },
  {
   "cell_type": "code",
   "execution_count": 8,
   "metadata": {
    "collapsed": true
   },
   "outputs": [],
   "source": [
    "dna = \"ATCGCGAATTCAC\"\n",
    "if re.search(r\"GC[ATGC]GC\",dna):\n",
    "    print(\"restriction site found!\")"
   ]
  },
  {
   "cell_type": "code",
   "execution_count": 9,
   "metadata": {
    "collapsed": false
   },
   "outputs": [
    {
     "name": "stdout",
     "output_type": "stream",
     "text": [
      "GACGTAC\n"
     ]
    }
   ],
   "source": [
    "dna = \"ATGACGTACGTACGACTG\"\n",
    "m = re.search(r\"GA[ATGC]{3}AC\", dna)\n",
    "print(m.group())"
   ]
  },
  {
   "cell_type": "code",
   "execution_count": 10,
   "metadata": {
    "collapsed": false
   },
   "outputs": [
    {
     "name": "stdout",
     "output_type": "stream",
     "text": [
      "entire match: GACGTACGTAC\n",
      "first bit: CGT\n",
      "second bit: GT\n"
     ]
    }
   ],
   "source": [
    "p = re.search(r\"GA([ATCG]{3})AC([ATGC]{2})AC\", dna)\n",
    "print(\"entire match: \" + p.group())\n",
    "print(\"first bit: \" + p.group(1))\n",
    "print(\"second bit: \" + p.group(2))"
   ]
  },
  {
   "cell_type": "code",
   "execution_count": 11,
   "metadata": {
    "collapsed": false
   },
   "outputs": [
    {
     "name": "stdout",
     "output_type": "stream",
     "text": [
      "start: 2\n",
      "end: 13\n"
     ]
    }
   ],
   "source": [
    "p = re.search(r\"GA([ATCG]{3})AC([ATGC]{2})AC\", dna)\n",
    "print(\"start: \" + str(p.start()))\n",
    "print(\"end: \" + str(p.end()))"
   ]
  },
  {
   "cell_type": "code",
   "execution_count": 12,
   "metadata": {
    "collapsed": false
   },
   "outputs": [
    {
     "name": "stdout",
     "output_type": "stream",
     "text": [
      "group one start: 4\n"
     ]
    }
   ],
   "source": [
    "print(\"group one start: \" + str(p.start(1)))"
   ]
  },
  {
   "cell_type": "code",
   "execution_count": 13,
   "metadata": {
    "collapsed": false
   },
   "outputs": [
    {
     "name": "stdout",
     "output_type": "stream",
     "text": [
      "['ACT', 'GCAT', 'GCTACGT', 'ACGAT', 'CGA', 'TCG']\n"
     ]
    }
   ],
   "source": [
    "dna = \"ACTNGCATRGCTACGTYACGATSCGAWTCG\"\n",
    "runs = re.split(r\"[^ATGC]\", dna)\n",
    "print(runs)"
   ]
  },
  {
   "cell_type": "code",
   "execution_count": 14,
   "metadata": {
    "collapsed": false
   },
   "outputs": [
    {
     "name": "stdout",
     "output_type": "stream",
     "text": [
      "['ATTATAT', 'AAATTATA']\n"
     ]
    }
   ],
   "source": [
    "dna = \"ACTGCATTATATCGTACGAAATTATACGCGCG\"\n",
    "runs = re.findall(r\"[AT]{4,100}\", dna)\n",
    "print(runs)\n"
   ]
  },
  {
   "cell_type": "code",
   "execution_count": 16,
   "metadata": {
    "collapsed": false
   },
   "outputs": [
    {
     "name": "stdout",
     "output_type": "stream",
     "text": [
      "AT rich region from 5 to 12\n",
      "AT rich region from 18 to 26\n"
     ]
    }
   ],
   "source": [
    "dna = \"ACTGCATTATATCGTACGAAATTATACGCGCG\"\n",
    "runs = re.finditer(r\"[AT]{3,100}\", dna)\n",
    "for match in runs:\n",
    "    run_start = match.start()\n",
    "    run_end = match.end()\n",
    "    print(\"AT rich region from \" + str(run_start) + \" to \" + str(run_end))"
   ]
  },
  {
   "cell_type": "code",
   "execution_count": 24,
   "metadata": {
    "collapsed": false
   },
   "outputs": [
    {
     "name": "stdout",
     "output_type": "stream",
     "text": [
      "xkn59438\n",
      "hedle3455\n",
      "xjhd53e\n",
      "45da\n"
     ]
    }
   ],
   "source": [
    "accession_names = [\"xkn59438\", \"yhdck2\", \"eihd39d9\", \"chdsye847\", \"hedle3455\", \"xjhd53e\", \"45da\", \"de37dp\"]\n",
    "for name in accession_names:\n",
    "    p = re.search(r\".*5.*\", name)\n",
    "    if p:\n",
    "        print(str(p.group()))"
   ]
  },
  {
   "cell_type": "code",
   "execution_count": 25,
   "metadata": {
    "collapsed": false
   },
   "outputs": [
    {
     "name": "stdout",
     "output_type": "stream",
     "text": [
      "yhdck2\n",
      "eihd39d9\n",
      "chdsye847\n",
      "hedle3455\n",
      "xjhd53e\n",
      "45da\n",
      "de37dp\n"
     ]
    }
   ],
   "source": [
    "accession_names = [\"xkn59438\", \"yhdck2\", \"eihd39d9\", \"chdsye847\", \"hedle3455\", \"xjhd53e\", \"45da\", \"de37dp\"]\n",
    "for name in accession_names:\n",
    "    p = re.search(r\".*[de].*\", name)\n",
    "    if p:\n",
    "        print(str(p.group()))"
   ]
  },
  {
   "cell_type": "code",
   "execution_count": 27,
   "metadata": {
    "collapsed": false
   },
   "outputs": [
    {
     "name": "stdout",
     "output_type": "stream",
     "text": [
      "chdsye847\n",
      "hedle3455\n",
      "xjhd53e\n",
      "de37dp\n"
     ]
    }
   ],
   "source": [
    "accession_names = [\"xkn59438\", \"yhdck2\", \"eihd39d9\", \"chdsye847\", \"hedle3455\", \"xjhd53e\", \"45da\", \"de37dp\"]\n",
    "for name in accession_names:\n",
    "    p = re.search(r\".*d.*e.*\", name)\n",
    "    if p:\n",
    "        print(str(p.group()))"
   ]
  },
  {
   "cell_type": "code",
   "execution_count": 28,
   "metadata": {
    "collapsed": false
   },
   "outputs": [
    {
     "name": "stdout",
     "output_type": "stream",
     "text": [
      "eihd39d9\n",
      "hedle3455\n",
      "de37dp\n"
     ]
    }
   ],
   "source": [
    "accession_names = [\"xkn59438\", \"yhdck2\", \"eihd39d9\", \"chdsye847\", \"hedle3455\", \"xjhd53e\", \"45da\", \"de37dp\"]\n",
    "for name in accession_names:\n",
    "    p = re.search(r\".*e.*d.*\", name)\n",
    "    if p:\n",
    "        print(str(p.group()))"
   ]
  },
  {
   "cell_type": "code",
   "execution_count": 29,
   "metadata": {
    "collapsed": false
   },
   "outputs": [
    {
     "name": "stdout",
     "output_type": "stream",
     "text": [
      "hedle3455\n"
     ]
    }
   ],
   "source": [
    "accession_names = [\"xkn59438\", \"yhdck2\", \"eihd39d9\", \"chdsye847\", \"hedle3455\", \"xjhd53e\", \"45da\", \"de37dp\"]\n",
    "for name in accession_names:\n",
    "    p = re.search(r\".*d[a-z]{1}e.*\", name)\n",
    "    if p:\n",
    "        print(str(p.group()))"
   ]
  },
  {
   "cell_type": "code",
   "execution_count": 32,
   "metadata": {
    "collapsed": false
   },
   "outputs": [
    {
     "name": "stdout",
     "output_type": "stream",
     "text": [
      "xkn59438\n",
      "yhdck2\n",
      "xjhd53e\n"
     ]
    }
   ],
   "source": [
    "accession_names = [\"xkn59438\", \"yhdck2\", \"eihd39d9\", \"chdsye847\", \"hedle3455\", \"xjhd53e\", \"45da\", \"de37dp\"]\n",
    "for name in accession_names:\n",
    "    p = re.search(r\"^[xy].*\", name)\n",
    "    if p:\n",
    "        print(str(p.group()))"
   ]
  },
  {
   "cell_type": "code",
   "execution_count": 33,
   "metadata": {
    "collapsed": false
   },
   "outputs": [
    {
     "name": "stdout",
     "output_type": "stream",
     "text": [
      "xjhd53e\n"
     ]
    }
   ],
   "source": [
    "accession_names = [\"xkn59438\", \"yhdck2\", \"eihd39d9\", \"chdsye847\", \"hedle3455\", \"xjhd53e\", \"45da\", \"de37dp\"]\n",
    "for name in accession_names:\n",
    "    p = re.search(r\"^[xy].*e$\", name)\n",
    "    if p:\n",
    "        print(str(p.group()))"
   ]
  },
  {
   "cell_type": "code",
   "execution_count": 35,
   "metadata": {
    "collapsed": false
   },
   "outputs": [
    {
     "name": "stdout",
     "output_type": "stream",
     "text": [
      "xkn59438\n",
      "chdsye847\n",
      "hedle3455\n"
     ]
    }
   ],
   "source": [
    "accession_names = [\"xkn59438\", \"yhdck2\", \"eihd39d9\", \"chdsye847\", \"hedle3455\", \"xjhd53e\", \"45da\", \"de37dp\"]\n",
    "for name in accession_names:\n",
    "    p = re.search(r\".*[0-9]{3,}.*\", name)\n",
    "    if p:\n",
    "        print(str(p.group()))"
   ]
  },
  {
   "cell_type": "code",
   "execution_count": 36,
   "metadata": {
    "collapsed": false
   },
   "outputs": [
    {
     "name": "stdout",
     "output_type": "stream",
     "text": [
      "45da\n",
      "de37dp\n"
     ]
    }
   ],
   "source": [
    "accession_names = [\"xkn59438\", \"yhdck2\", \"eihd39d9\", \"chdsye847\", \"hedle3455\", \"xjhd53e\", \"45da\", \"de37dp\"]\n",
    "for name in accession_names:\n",
    "    p = re.search(r\".*d[arp]$\", name)\n",
    "    if p:\n",
    "        print(str(p.group()))"
   ]
  },
  {
   "cell_type": "code",
   "execution_count": null,
   "metadata": {
    "collapsed": true
   },
   "outputs": [],
   "source": []
  }
 ],
 "metadata": {
  "kernelspec": {
   "display_name": "Python 3",
   "language": "python",
   "name": "python3"
  },
  "language_info": {
   "codemirror_mode": {
    "name": "ipython",
    "version": 3
   },
   "file_extension": ".py",
   "mimetype": "text/x-python",
   "name": "python",
   "nbconvert_exporter": "python",
   "pygments_lexer": "ipython3",
   "version": "3.6.0"
  }
 },
 "nbformat": 4,
 "nbformat_minor": 2
}
