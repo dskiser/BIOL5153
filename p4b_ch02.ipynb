{
 "cells": [
  {
   "cell_type": "code",
   "execution_count": 5,
   "metadata": {
    "collapsed": false
   },
   "outputs": [
    {
     "name": "stdout",
     "output_type": "stream",
     "text": [
      "Hello World\n"
     ]
    }
   ],
   "source": [
    "# my first python command\n",
    "print(\"Hello World\")"
   ]
  },
  {
   "cell_type": "code",
   "execution_count": 4,
   "metadata": {
    "collapsed": false
   },
   "outputs": [
    {
     "name": "stdout",
     "output_type": "stream",
     "text": [
      "hello world\n"
     ]
    }
   ],
   "source": [
    "# my first variable\n",
    "message = \"hello world\"\n",
    "print(message)"
   ]
  },
  {
   "cell_type": "code",
   "execution_count": 6,
   "metadata": {
    "collapsed": false
   },
   "outputs": [
    {
     "name": "stdout",
     "output_type": "stream",
     "text": [
      "11\n",
      "11\n"
     ]
    }
   ],
   "source": [
    "length = len('hello world')\n",
    "length2 = len(message)\n",
    "print(length)\n",
    "print(length2)"
   ]
  },
  {
   "cell_type": "code",
   "execution_count": 10,
   "metadata": {
    "collapsed": false
   },
   "outputs": [
    {
     "name": "stdout",
     "output_type": "stream",
     "text": [
      "the length of my message is 11\n"
     ]
    }
   ],
   "source": [
    "print(\"the length of my message is \" + str(length))"
   ]
  },
  {
   "cell_type": "code",
   "execution_count": 9,
   "metadata": {
    "collapsed": false
   },
   "outputs": [
    {
     "ename": "SyntaxError",
     "evalue": "invalid syntax (<ipython-input-9-085e8ca244e7>, line 6)",
     "output_type": "error",
     "traceback": [
      "\u001b[0;36m  File \u001b[0;32m\"<ipython-input-9-085e8ca244e7>\"\u001b[0;36m, line \u001b[0;32m6\u001b[0m\n\u001b[0;31m    for base in num_a_t\u001b[0m\n\u001b[0m                       ^\u001b[0m\n\u001b[0;31mSyntaxError\u001b[0m\u001b[0;31m:\u001b[0m invalid syntax\n"
     ]
    }
   ],
   "source": [
    "dna_strand = \"ACTGATCGATTACGTATAGTATTTGCTATCATACATATATATCGATGCGTTCAT\"\n",
    "num_a = dna_strand.count('A')\n",
    "num_t = dna_strand.count('T')\n",
    "num_a_t = num_a + num_t\n",
    "print(str(num_a_t))\n",
    "for base in num_a_t\n",
    "    \n",
    "print(str(dna_strand.find('A')))\n"
   ]
  },
  {
   "cell_type": "code",
   "execution_count": 14,
   "metadata": {
    "collapsed": false
   },
   "outputs": [
    {
     "name": "stdout",
     "output_type": "stream",
     "text": [
      "68.51851851851852%\n"
     ]
    }
   ],
   "source": [
    "dna_strand = \"ACTGATCGATTACGTATAGTATTTGCTATCATACATATATATCGATGCGTTCAT\"\n",
    "num_a = dna_strand.count('A')\n",
    "num_t = dna_strand.count('T')\n",
    "num_a_t = num_a + num_t\n",
    "at_content = num_a_t/len(dna_strand)\n",
    "answer = at_content * 100\n",
    "print(str(answer) + \"%\")"
   ]
  },
  {
   "cell_type": "code",
   "execution_count": 16,
   "metadata": {
    "collapsed": false
   },
   "outputs": [
    {
     "name": "stdout",
     "output_type": "stream",
     "text": [
      "TGACTAGCTAATGCATATCATAAACGATAGTATGTATATATAGCTACGCAAGTA\n"
     ]
    }
   ],
   "source": [
    "dna_strand = \"ACTGATCGATTACGTATAGTATTTGCTATCATACATATATATCGATGCGTTCAT\"\n",
    "complement = (dna_strand.replace(\"A\", \"t\"))\n",
    "complement = (complement.replace(\"C\", \"g\"))\n",
    "complement = (complement.replace(\"T\", \"a\"))\n",
    "complement = (complement.replace(\"G\", \"c\"))\n",
    "print(complement.upper())"
   ]
  },
  {
   "cell_type": "code",
   "execution_count": 23,
   "metadata": {
    "collapsed": false
   },
   "outputs": [
    {
     "name": "stdout",
     "output_type": "stream",
     "text": [
      "strand1: 22\n",
      "strand2: 33\n",
      "total: 55\n"
     ]
    }
   ],
   "source": [
    "dna_strand = \"ACTGATCGATTACGTATAGTAGAATTCTATCATACATATATATCGATGCGTTCAT\"\n",
    "cut_site = dna_strand.find(\"GAATTC\") + 1\n",
    "strand1 = dna_strand[0:cut_site]\n",
    "strand2 = dna_strand[cut_site:]\n",
    "print(\"strand1: \" + str(len(strand1)))\n",
    "print(\"strand2: \" + str(len(strand2)))\n",
    "print(\"total: \" + str(len(dna_strand)))\n"
   ]
  },
  {
   "cell_type": "code",
   "execution_count": 19,
   "metadata": {
    "collapsed": false
   },
   "outputs": [
    {
     "name": "stdout",
     "output_type": "stream",
     "text": [
      "CGATCGATCGATCGATCGATCATGCT\n"
     ]
    }
   ],
   "source": [
    "dna_strand = \"ATCGATCGATCGATCGACTGACTAGTCATAGCTATGCATGTAGCTACTCGATCGATCGATCGATCGATCGATCGATCGATCGATCATGCTATCATCGATCGATATCGATGCATCGACTACTAT\"\n",
    "print(dna_strand[64:90])"
   ]
  },
  {
   "cell_type": "code",
   "execution_count": 21,
   "metadata": {
    "collapsed": false
   },
   "outputs": [
    {
     "name": "stdout",
     "output_type": "stream",
     "text": [
      "21.138211382113823%\n"
     ]
    }
   ],
   "source": [
    "dna_strand = \"ATCGATCGATCGATCGACTGACTAGTCATAGCTATGCATGTAGCTACTCGATCGATCGATCGATCGATCGATCGATCGATCGATCATGCTATCATCGATCGATATCGATGCATCGACTACTAT\"\n",
    "coding = dna_strand[64:90]\n",
    "percent_coding = len(coding)/len(dna_strand) * 100\n",
    "print(str(percent_coding) + \"%\")"
   ]
  },
  {
   "cell_type": "code",
   "execution_count": 22,
   "metadata": {
    "collapsed": false
   },
   "outputs": [
    {
     "name": "stdout",
     "output_type": "stream",
     "text": [
      "atcgatcgatcgatcgactgactagtcatagctatgcatgtagctactcgatcgatcgatcgatCGATCGATCGATCGATCGATCATGCTatcatcgatcgatatcgatgcatcgactactat\n"
     ]
    }
   ],
   "source": [
    "dna_strand = \"ATCGATCGATCGATCGACTGACTAGTCATAGCTATGCATGTAGCTACTCGATCGATCGATCGATCGATCGATCGATCGATCGATCATGCTATCATCGATCGATATCGATGCATCGACTACTAT\"\n",
    "coding = dna_strand[64:90]\n",
    "dna_strand_lower = dna_strand.lower()\n",
    "coding_lower = coding.lower()\n",
    "final_strand = dna_strand_lower.replace(coding_lower, coding)\n",
    "print(final_strand)"
   ]
  }
 ],
 "metadata": {
  "kernelspec": {
   "display_name": "Python 3",
   "language": "python",
   "name": "python3"
  },
  "language_info": {
   "codemirror_mode": {
    "name": "ipython",
    "version": 3
   },
   "file_extension": ".py",
   "mimetype": "text/x-python",
   "name": "python",
   "nbconvert_exporter": "python",
   "pygments_lexer": "ipython3",
   "version": "3.6.0"
  }
 },
 "nbformat": 4,
 "nbformat_minor": 2
}
